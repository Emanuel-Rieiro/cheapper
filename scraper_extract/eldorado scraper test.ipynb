{
 "cells": [
  {
   "cell_type": "code",
   "execution_count": 120,
   "id": "19c64089",
   "metadata": {},
   "outputs": [],
   "source": [
    "\n",
    "import urllib\n",
    "import requests\n",
    "import pandas as pd\n",
    "from random import randint\n",
    "from selenium.webdriver.common.by import By\n",
    "from selenium.common.exceptions import NoSuchElementException\n",
    "from selenium.common.exceptions import ElementClickInterceptedException\n",
    "from selenium.common.exceptions import ElementNotInteractableException\n",
    "from selenium.webdriver.common.action_chains import ActionChains\n",
    "from bs4 import BeautifulSoup\n",
    "from selenium import webdriver\n",
    "from scraper_orchestator import ScraperOrchestrator"
   ]
  },
  {
   "cell_type": "code",
   "execution_count": 203,
   "id": "74db2ffa",
   "metadata": {
    "scrolled": false
   },
   "outputs": [
    {
     "name": "stderr",
     "output_type": "stream",
     "text": [
      "C:\\Users\\emanu\\AppData\\Local\\Temp\\ipykernel_29180\\3975780917.py:2: DeprecationWarning: executable_path has been deprecated, please pass in a Service object\n",
      "  driver = webdriver.Chrome('./chromedriver')\n"
     ]
    }
   ],
   "source": [
    "# Starting the driver in full-screen\n",
    "driver = webdriver.Chrome('./chromedriver')\n",
    "driver.maximize_window() \n",
    "\n",
    "# Dataframe for data\n",
    "df = pd.DataFrame(columns = ['ecomm_name','name','src','price_1','price_2'])\n",
    "\n",
    "# Get links of pages we are scraping\n",
    "with open('links.txt', 'r') as links_txt: links = links_txt.readlines()\n",
    "\n",
    "# Loop trough the links, updating our dataset\n",
    "# for link in links:\n",
    "#     ScraperOrchestrator(driver, link, df)\n",
    "#     df = ScraperOrchestrator.df"
   ]
  },
  {
   "cell_type": "code",
   "execution_count": 204,
   "id": "75997d2c",
   "metadata": {
    "scrolled": true
   },
   "outputs": [
    {
     "data": {
      "text/plain": [
       "'https://www.eldorado.com.uy/comestibles/almacen/yerba\\n'"
      ]
     },
     "execution_count": 204,
     "metadata": {},
     "output_type": "execute_result"
    }
   ],
   "source": [
    "links[11]"
   ]
  },
  {
   "cell_type": "code",
   "execution_count": 205,
   "id": "a5e16ba3",
   "metadata": {},
   "outputs": [],
   "source": [
    "# goto\n",
    "ecomm_name = links[11].split('.')[1]\n",
    "driver.get(links[11])"
   ]
  },
  {
   "cell_type": "code",
   "execution_count": 266,
   "id": "e139e1de",
   "metadata": {},
   "outputs": [
    {
     "ename": "NoSuchElementException",
     "evalue": "Message: no such element: Unable to locate element: {\"method\":\"css selector\",\"selector\":\".vtex-button.bw1.ba.fw5.v-mid.relative.pa0.lh-solid.br2.min-h-small.t-action--small.bg-action-primary.b--action-primary.c-on-action-primary.hover-bg-action-primary.hover-b--action-primary.hover-c-on-action-primary.pointer\"}\n  (Session info: chrome=109.0.5414.75)\nStacktrace:\nBacktrace:\n\t(No symbol) [0x00FB6643]\n\t(No symbol) [0x00F4BE21]\n\t(No symbol) [0x00E4DA9D]\n\t(No symbol) [0x00E81342]\n\t(No symbol) [0x00E8147B]\n\t(No symbol) [0x00EB8DC2]\n\t(No symbol) [0x00E9FDC4]\n\t(No symbol) [0x00EB6B09]\n\t(No symbol) [0x00E9FB76]\n\t(No symbol) [0x00E749C1]\n\t(No symbol) [0x00E75E5D]\n\tGetHandleVerifier [0x0122A142+2497106]\n\tGetHandleVerifier [0x012585D3+2686691]\n\tGetHandleVerifier [0x0125BB9C+2700460]\n\tGetHandleVerifier [0x01063B10+635936]\n\t(No symbol) [0x00F54A1F]\n\t(No symbol) [0x00F5A418]\n\t(No symbol) [0x00F5A505]\n\t(No symbol) [0x00F6508B]\n\tBaseThreadInitThunk [0x762600F9+25]\n\tRtlGetAppContainerNamedObjectPath [0x77B57BBE+286]\n\tRtlGetAppContainerNamedObjectPath [0x77B57B8E+238]\n",
     "output_type": "error",
     "traceback": [
      "\u001b[1;31m---------------------------------------------------------------------------\u001b[0m",
      "\u001b[1;31mNoSuchElementException\u001b[0m                    Traceback (most recent call last)",
      "Cell \u001b[1;32mIn[266], line 2\u001b[0m\n\u001b[0;32m      1\u001b[0m class_name \u001b[38;5;241m=\u001b[39m \u001b[38;5;124m'\u001b[39m\u001b[38;5;124mvtex-button bw1 ba fw5 v-mid relative pa0 lh-solid br2 min-h-small t-action--small bg-action-primary b--action-primary c-on-action-primary hover-bg-action-primary hover-b--action-primary hover-c-on-action-primary pointer\u001b[39m\u001b[38;5;124m'\u001b[39m\n\u001b[1;32m----> 2\u001b[0m show_more \u001b[38;5;241m=\u001b[39m \u001b[43mdriver\u001b[49m\u001b[38;5;241;43m.\u001b[39;49m\u001b[43mfind_element\u001b[49m\u001b[43m(\u001b[49m\u001b[43mBy\u001b[49m\u001b[38;5;241;43m.\u001b[39;49m\u001b[43mCLASS_NAME\u001b[49m\u001b[43m,\u001b[49m\u001b[43m \u001b[49m\u001b[43mclass_name\u001b[49m\u001b[38;5;241;43m.\u001b[39;49m\u001b[43mreplace\u001b[49m\u001b[43m(\u001b[49m\u001b[38;5;124;43m'\u001b[39;49m\u001b[38;5;124;43m \u001b[39;49m\u001b[38;5;124;43m'\u001b[39;49m\u001b[43m,\u001b[49m\u001b[38;5;124;43m'\u001b[39;49m\u001b[38;5;124;43m.\u001b[39;49m\u001b[38;5;124;43m'\u001b[39;49m\u001b[43m)\u001b[49m\u001b[43m)\u001b[49m\n\u001b[0;32m      4\u001b[0m actions \u001b[38;5;241m=\u001b[39m ActionChains(driver)\n\u001b[0;32m      5\u001b[0m actions\u001b[38;5;241m.\u001b[39mmove_to_element(show_more)\u001b[38;5;241m.\u001b[39mperform()\n",
      "File \u001b[1;32m~\\Anaconda3\\envs\\cheapper\\lib\\site-packages\\selenium\\webdriver\\remote\\webdriver.py:861\u001b[0m, in \u001b[0;36mWebDriver.find_element\u001b[1;34m(self, by, value)\u001b[0m\n\u001b[0;32m    858\u001b[0m     by \u001b[38;5;241m=\u001b[39m By\u001b[38;5;241m.\u001b[39mCSS_SELECTOR\n\u001b[0;32m    859\u001b[0m     value \u001b[38;5;241m=\u001b[39m \u001b[38;5;124m'\u001b[39m\u001b[38;5;124m[name=\u001b[39m\u001b[38;5;124m\"\u001b[39m\u001b[38;5;132;01m%s\u001b[39;00m\u001b[38;5;124m\"\u001b[39m\u001b[38;5;124m]\u001b[39m\u001b[38;5;124m'\u001b[39m \u001b[38;5;241m%\u001b[39m value\n\u001b[1;32m--> 861\u001b[0m \u001b[38;5;28;01mreturn\u001b[39;00m \u001b[38;5;28;43mself\u001b[39;49m\u001b[38;5;241;43m.\u001b[39;49m\u001b[43mexecute\u001b[49m\u001b[43m(\u001b[49m\u001b[43mCommand\u001b[49m\u001b[38;5;241;43m.\u001b[39;49m\u001b[43mFIND_ELEMENT\u001b[49m\u001b[43m,\u001b[49m\u001b[43m \u001b[49m\u001b[43m{\u001b[49m\u001b[38;5;124;43m\"\u001b[39;49m\u001b[38;5;124;43musing\u001b[39;49m\u001b[38;5;124;43m\"\u001b[39;49m\u001b[43m:\u001b[49m\u001b[43m \u001b[49m\u001b[43mby\u001b[49m\u001b[43m,\u001b[49m\u001b[43m \u001b[49m\u001b[38;5;124;43m\"\u001b[39;49m\u001b[38;5;124;43mvalue\u001b[39;49m\u001b[38;5;124;43m\"\u001b[39;49m\u001b[43m:\u001b[49m\u001b[43m \u001b[49m\u001b[43mvalue\u001b[49m\u001b[43m}\u001b[49m\u001b[43m)\u001b[49m[\u001b[38;5;124m\"\u001b[39m\u001b[38;5;124mvalue\u001b[39m\u001b[38;5;124m\"\u001b[39m]\n",
      "File \u001b[1;32m~\\Anaconda3\\envs\\cheapper\\lib\\site-packages\\selenium\\webdriver\\remote\\webdriver.py:444\u001b[0m, in \u001b[0;36mWebDriver.execute\u001b[1;34m(self, driver_command, params)\u001b[0m\n\u001b[0;32m    442\u001b[0m response \u001b[38;5;241m=\u001b[39m \u001b[38;5;28mself\u001b[39m\u001b[38;5;241m.\u001b[39mcommand_executor\u001b[38;5;241m.\u001b[39mexecute(driver_command, params)\n\u001b[0;32m    443\u001b[0m \u001b[38;5;28;01mif\u001b[39;00m response:\n\u001b[1;32m--> 444\u001b[0m     \u001b[38;5;28;43mself\u001b[39;49m\u001b[38;5;241;43m.\u001b[39;49m\u001b[43merror_handler\u001b[49m\u001b[38;5;241;43m.\u001b[39;49m\u001b[43mcheck_response\u001b[49m\u001b[43m(\u001b[49m\u001b[43mresponse\u001b[49m\u001b[43m)\u001b[49m\n\u001b[0;32m    445\u001b[0m     response[\u001b[38;5;124m\"\u001b[39m\u001b[38;5;124mvalue\u001b[39m\u001b[38;5;124m\"\u001b[39m] \u001b[38;5;241m=\u001b[39m \u001b[38;5;28mself\u001b[39m\u001b[38;5;241m.\u001b[39m_unwrap_value(response\u001b[38;5;241m.\u001b[39mget(\u001b[38;5;124m\"\u001b[39m\u001b[38;5;124mvalue\u001b[39m\u001b[38;5;124m\"\u001b[39m, \u001b[38;5;28;01mNone\u001b[39;00m))\n\u001b[0;32m    446\u001b[0m     \u001b[38;5;28;01mreturn\u001b[39;00m response\n",
      "File \u001b[1;32m~\\Anaconda3\\envs\\cheapper\\lib\\site-packages\\selenium\\webdriver\\remote\\errorhandler.py:249\u001b[0m, in \u001b[0;36mErrorHandler.check_response\u001b[1;34m(self, response)\u001b[0m\n\u001b[0;32m    247\u001b[0m         alert_text \u001b[38;5;241m=\u001b[39m value[\u001b[38;5;124m\"\u001b[39m\u001b[38;5;124malert\u001b[39m\u001b[38;5;124m\"\u001b[39m]\u001b[38;5;241m.\u001b[39mget(\u001b[38;5;124m\"\u001b[39m\u001b[38;5;124mtext\u001b[39m\u001b[38;5;124m\"\u001b[39m)\n\u001b[0;32m    248\u001b[0m     \u001b[38;5;28;01mraise\u001b[39;00m exception_class(message, screen, stacktrace, alert_text)  \u001b[38;5;66;03m# type: ignore[call-arg]  # mypy is not smart enough here\u001b[39;00m\n\u001b[1;32m--> 249\u001b[0m \u001b[38;5;28;01mraise\u001b[39;00m exception_class(message, screen, stacktrace)\n",
      "\u001b[1;31mNoSuchElementException\u001b[0m: Message: no such element: Unable to locate element: {\"method\":\"css selector\",\"selector\":\".vtex-button.bw1.ba.fw5.v-mid.relative.pa0.lh-solid.br2.min-h-small.t-action--small.bg-action-primary.b--action-primary.c-on-action-primary.hover-bg-action-primary.hover-b--action-primary.hover-c-on-action-primary.pointer\"}\n  (Session info: chrome=109.0.5414.75)\nStacktrace:\nBacktrace:\n\t(No symbol) [0x00FB6643]\n\t(No symbol) [0x00F4BE21]\n\t(No symbol) [0x00E4DA9D]\n\t(No symbol) [0x00E81342]\n\t(No symbol) [0x00E8147B]\n\t(No symbol) [0x00EB8DC2]\n\t(No symbol) [0x00E9FDC4]\n\t(No symbol) [0x00EB6B09]\n\t(No symbol) [0x00E9FB76]\n\t(No symbol) [0x00E749C1]\n\t(No symbol) [0x00E75E5D]\n\tGetHandleVerifier [0x0122A142+2497106]\n\tGetHandleVerifier [0x012585D3+2686691]\n\tGetHandleVerifier [0x0125BB9C+2700460]\n\tGetHandleVerifier [0x01063B10+635936]\n\t(No symbol) [0x00F54A1F]\n\t(No symbol) [0x00F5A418]\n\t(No symbol) [0x00F5A505]\n\t(No symbol) [0x00F6508B]\n\tBaseThreadInitThunk [0x762600F9+25]\n\tRtlGetAppContainerNamedObjectPath [0x77B57BBE+286]\n\tRtlGetAppContainerNamedObjectPath [0x77B57B8E+238]\n"
     ]
    }
   ],
   "source": [
    "class_name = 'vtex-button bw1 ba fw5 v-mid relative pa0 lh-solid br2 min-h-small t-action--small bg-action-primary b--action-primary c-on-action-primary hover-bg-action-primary hover-b--action-primary hover-c-on-action-primary pointer'\n",
    "show_more = driver.find_element(By.CLASS_NAME, class_name.replace(' ','.'))\n",
    "\n",
    "actions = ActionChains(driver)\n",
    "actions.move_to_element(show_more).perform()\n",
    "\n",
    "\n",
    "footer_class = 'vtex-flex-layout-0-x-flexRow vtex-flex-layout-0-x-flexRow--footer-links'\n",
    "footer = driver.find_element(By.CLASS_NAME, footer_class.replace(' ','.'))\n",
    "\n",
    "actions.move_to_element(footer).perform()"
   ]
  },
  {
   "cell_type": "code",
   "execution_count": 256,
   "id": "34e249e7",
   "metadata": {
    "scrolled": false
   },
   "outputs": [],
   "source": [
    "articles = driver.find_elements(By.CSS_SELECTOR, 'article')\n",
    "\n",
    "for article in articles:\n",
    "    \n",
    "    try:\n",
    "        \n",
    "        name = article.find_element(By.CSS_SELECTOR, 'h3')\n",
    "        name = name.find_element(By.CSS_SELECTOR, 'span').get_attribute(\"textContent\")\n",
    "\n",
    "        src = article.find_element(By.CSS_SELECTOR, 'img').get_attribute('src')\n",
    "        \n",
    "        prices = []\n",
    "        \n",
    "        price_container = article.find_element(By.CLASS_NAME, 'eldoradouy-product-price-custom-currency-0-x-sellingPriceInLocalCurrency')\n",
    "        \n",
    "        # price 1\n",
    "        prices.append(price_container.find_elements(By.CSS_SELECTOR, 'span')[1].get_attribute(\"textContent\"))\n",
    "        \n",
    "        # price 2\n",
    "        prices.append('')\n",
    "        \n",
    "        df.loc[len(df.index)] = [ecomm_name,name,src,prices[0],prices[1]]\n",
    "        \n",
    "    except:\n",
    "        pass"
   ]
  }
 ],
 "metadata": {
  "hide_input": false,
  "kernelspec": {
   "display_name": "cheapper",
   "language": "python",
   "name": "cheapper"
  },
  "language_info": {
   "codemirror_mode": {
    "name": "ipython",
    "version": 3
   },
   "file_extension": ".py",
   "mimetype": "text/x-python",
   "name": "python",
   "nbconvert_exporter": "python",
   "pygments_lexer": "ipython3",
   "version": "3.10.8"
  },
  "toc": {
   "base_numbering": 1,
   "nav_menu": {},
   "number_sections": true,
   "sideBar": true,
   "skip_h1_title": false,
   "title_cell": "Table of Contents",
   "title_sidebar": "Contents",
   "toc_cell": false,
   "toc_position": {},
   "toc_section_display": true,
   "toc_window_display": false
  }
 },
 "nbformat": 4,
 "nbformat_minor": 5
}
