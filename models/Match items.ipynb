{
 "cells": [
  {
   "cell_type": "markdown",
   "id": "3b570f36",
   "metadata": {},
   "source": [
    "### Imports"
   ]
  },
  {
   "cell_type": "code",
   "execution_count": 36,
   "id": "c05716ad",
   "metadata": {},
   "outputs": [],
   "source": [
    "import re\n",
    "import boto3\n",
    "import pandas as pd\n",
    "from sklearn.cluster import KMeans\n",
    "from sklearn.feature_extraction.text import TfidfVectorizer"
   ]
  },
  {
   "cell_type": "markdown",
   "id": "3b6bfd31",
   "metadata": {},
   "source": [
    "### Data download"
   ]
  },
  {
   "cell_type": "code",
   "execution_count": 13,
   "id": "e1e96260",
   "metadata": {},
   "outputs": [],
   "source": [
    "s3 = boto3.client(\"s3\")\n",
    "s3.download_file(\n",
    "    Bucket=\"cheapper\", Key=\"webscraping_results_17-01-2023.csv\", Filename=\"data.csv\"\n",
    ")"
   ]
  },
  {
   "cell_type": "markdown",
   "id": "36f12ad1",
   "metadata": {},
   "source": [
    "### Read data"
   ]
  },
  {
   "cell_type": "code",
   "execution_count": 2,
   "id": "a0683fa4",
   "metadata": {},
   "outputs": [],
   "source": [
    "df = pd.read_csv('data.csv').drop('Unnamed: 0',axis = 1)"
   ]
  },
  {
   "cell_type": "markdown",
   "id": "a07fa8db",
   "metadata": {},
   "source": [
    "### What we want to do?"
   ]
  },
  {
   "cell_type": "markdown",
   "id": "bab7ca26",
   "metadata": {},
   "source": [
    "These items are all the same, but have slightly different name depending of the source where we got them from.\n",
    "\n",
    "The idea would be to create a model that matches products we belive are the same."
   ]
  },
  {
   "cell_type": "code",
   "execution_count": 3,
   "id": "f6908c13",
   "metadata": {
    "scrolled": true
   },
   "outputs": [
    {
     "data": {
      "text/plain": [
       "date                                                 17-01-2023\n",
       "ecomm_name                                             eldorado\n",
       "name                                        YERBA CANARIAS 1KG \n",
       "src           https://eldoradouy.vtexassets.com/arquivos/ids...\n",
       "price_1                                                  188,00\n",
       "price_2                                                     NaN\n",
       "Name: 261, dtype: object"
      ]
     },
     "execution_count": 3,
     "metadata": {},
     "output_type": "execute_result"
    }
   ],
   "source": [
    "df.loc[261]"
   ]
  },
  {
   "cell_type": "code",
   "execution_count": 4,
   "id": "a14ea4fc",
   "metadata": {},
   "outputs": [
    {
     "data": {
      "text/plain": [
       "date                                                 17-01-2023\n",
       "ecomm_name                                               elclon\n",
       "name                                        YERBA CANARIAS 1 KG\n",
       "src           https://f.fcdn.app/imgs/95fec6/www.elclon.com....\n",
       "price_1                                                     185\n",
       "price_2                                                     NaN\n",
       "Name: 69, dtype: object"
      ]
     },
     "execution_count": 4,
     "metadata": {},
     "output_type": "execute_result"
    }
   ],
   "source": [
    "df.loc[69]"
   ]
  },
  {
   "cell_type": "code",
   "execution_count": 5,
   "id": "b261a93a",
   "metadata": {},
   "outputs": [
    {
     "data": {
      "text/plain": [
       "date                                                 17-01-2023\n",
       "ecomm_name                                               devoto\n",
       "name                                        Yerba CANARIAS 1 kg\n",
       "src           https://geant.vteximg.com.br/arquivos/ids/2921...\n",
       "price_1                                                     188\n",
       "price_2                                                     NaN\n",
       "Name: 423, dtype: object"
      ]
     },
     "execution_count": 5,
     "metadata": {},
     "output_type": "execute_result"
    }
   ],
   "source": [
    "df.loc[423]"
   ]
  },
  {
   "cell_type": "markdown",
   "id": "e13f3e19",
   "metadata": {},
   "source": [
    "### Unsupervised clasification"
   ]
  },
  {
   "cell_type": "code",
   "execution_count": 6,
   "id": "343f73ae",
   "metadata": {},
   "outputs": [
    {
     "name": "stderr",
     "output_type": "stream",
     "text": [
      "[nltk_data] Downloading package stopwords to\n",
      "[nltk_data]     C:\\Users\\emanu\\AppData\\Roaming\\nltk_data...\n",
      "[nltk_data]   Package stopwords is already up-to-date!\n"
     ]
    },
    {
     "data": {
      "text/plain": [
       "True"
      ]
     },
     "execution_count": 6,
     "metadata": {},
     "output_type": "execute_result"
    }
   ],
   "source": [
    "import nltk\n",
    "from nltk.corpus import stopwords\n",
    "from nltk.tokenize import word_tokenize\n",
    "\n",
    "nltk.download('stopwords')"
   ]
  },
  {
   "cell_type": "code",
   "execution_count": 7,
   "id": "2f543e7d",
   "metadata": {},
   "outputs": [],
   "source": [
    "def containsNumber(value):\n",
    "    for character in value:\n",
    "        if character.isdigit():\n",
    "            return True\n",
    "    return False"
   ]
  },
  {
   "cell_type": "code",
   "execution_count": 8,
   "id": "79426390",
   "metadata": {},
   "outputs": [],
   "source": [
    "def remove_stopwords(texts):\n",
    "    stop_words = set(stopwords.words('spanish'))\n",
    "    stop_words.add('gr')\n",
    "    stop_words.add('g')\n",
    "    stop_words.add('grs.')\n",
    "    stop_words.add('grs')\n",
    "    stop_words.add('kg')\n",
    "    stop_words.add('kg.')\n",
    "    cleaned_texts = []\n",
    "    for text in texts:\n",
    "        cleaned_text = [word for word in text.split() if word.lower() not in stop_words]\n",
    "        cleaned_texts.append(' '.join(cleaned_text))\n",
    "    return cleaned_texts"
   ]
  },
  {
   "cell_type": "code",
   "execution_count": 9,
   "id": "57ac2f90",
   "metadata": {},
   "outputs": [],
   "source": [
    "def remove_stopwords_together(texts):\n",
    "    \n",
    "    new_names = []\n",
    "    for names in texts:\n",
    "        \n",
    "        new_name = []\n",
    "        for name in names.split():\n",
    "            \n",
    "            if containsNumber(name):\n",
    "                new_name.append(re.findall(r'\\d+', name)[0])\n",
    "            else:\n",
    "                new_name.append(name)\n",
    "        \n",
    "        new_names.append(' '.join(new_name))\n",
    "    return new_names"
   ]
  },
  {
   "cell_type": "code",
   "execution_count": 10,
   "id": "9d82f39e",
   "metadata": {},
   "outputs": [],
   "source": [
    "def tokenize_text(text):\n",
    "    tokens = word_tokenize(text)\n",
    "    return tokens"
   ]
  },
  {
   "cell_type": "code",
   "execution_count": 11,
   "id": "abac7553",
   "metadata": {},
   "outputs": [],
   "source": [
    "def create_bow(texts):\n",
    "    vectorizer = CountVectorizer()\n",
    "    bow = vectorizer.fit_transform(texts)\n",
    "    return bow, vectorizer"
   ]
  },
  {
   "cell_type": "code",
   "execution_count": 12,
   "id": "24ffa863",
   "metadata": {},
   "outputs": [],
   "source": [
    "df['name'] = df['name'].astype(str) # get everything to str\n",
    "df['name'] = df['name'].str.lower() # lowercase everything\n",
    "df['name'] = df['name'].str.replace('c/','') # get rid of the c/\n",
    "\n",
    "df['name'] = remove_stopwords(df['name'].values) # stopwords\n",
    "df['name'] = remove_stopwords_together(df['name']) # clean \"500g\" like descriptions"
   ]
  },
  {
   "cell_type": "code",
   "execution_count": 47,
   "id": "aada150b",
   "metadata": {},
   "outputs": [
    {
     "name": "stdout",
     "output_type": "stream",
     "text": [
      "[[0 0 0 0 0 0 0 0 0 0 0 0 0 0 0 0 0 0 0 0 0 0 0 0 0 0 0 0 0 0 0 0 0 0 0 0\n",
      "  0 0 0 0 0 0 0 0 0 0 0 0 0 0 0 0 0 0 0 0 0 0 0 0 0 0 0 0 0 0 0 0 0 0 0 0\n",
      "  0 0 0 0 0 0 0 0 0 0 0 0 0 0 0 0 0 0 0 0 0 0 0 0 0 0 0 0 0 0 0 0 0 0 1 0\n",
      "  0 0 0 0 0 0 0 0 0 0 0 0 0 0 0 0 0 0 0 0 0 0 0 0 0 0 0 0 0 0 0 0 0 0 0 0\n",
      "  0 0 0 0 0 0 0 0 0 0 0 0 0 0 0 0 0 0 0 0 0 0 0 0 0 0 0 0 0 0 0 0 0 0 0 0\n",
      "  0 0 0 0 0 0 0 0 0 0 0 0 0 0 0 0 0 0 0 0 0 0 0 0 0 0 0 0 0 0 0 0 0 0 0 0\n",
      "  0 0 0 0 0 0 0 0 0 0 0 0 0 0 0 0 0 0 0 1 0 0 0 0 0 0 0 0 0 0 0 0 0 0 0 0\n",
      "  0 0 0 0 0 0 0 0 0 0 0 0 0 0 0 0 0 0 0 0 0 0 0 0 0 0 0 0 0 0 0 0 0 0 0 0\n",
      "  0 0 1 0 0 0 0 0 0 0 0 0 0 0 0 0 0 0 0 0 0 0 0 0 0 0 0 0 0 0 0 0 0 0 0 0\n",
      "  0 0 0 0 0 0 0 0 0 0 0 0 0 0 0 0 0 0 0 0 0 0 0 0 0 0 0 0 0 0 0 0 0 0 0 0\n",
      "  0 0 0 0 0 0 0 0 0 0 0 0 0 0 0 0 0 0 0 0 0 0 0 0 0 0 0 0 0 0 0 0 0 0 0 0\n",
      "  0 0 0 0 0 0 0 0 0 0 0 0 0 0 0 0 0 0 0 0 0 0 0 0 0 0 0 0 0 0 0 0 0 0 0 0\n",
      "  0 0 0 0 0 0 0 0 0 0 0 0 0 0 0 0 0 0 0 0 0 0 0 0 0 0 0 0 0 0 0 0 0 0 0 0\n",
      "  0 0 0 0 0 0 0 0 0 0 0 0 0 0 0 0 0 0 0 0 0 0 0 0 0 0 0 0 0 0 0 0 0 0 0 0\n",
      "  0 0 0 0 0 0 0 0 0 0 0 0 0 0 0 0 0 0 0 0 0 0 0 0 0 0 0 0 0 0 0 0 0 0 0 0\n",
      "  0 0 0 0 0 0 0 0 0 0 0 0 0 0 0 0 0 0 0 0 0 0 0 0 0 0 0 0 0 0 0 0 0 0 0 0\n",
      "  0 0 0 0 0 0 0 0 0 0 0 0 0 0 0 0 0 0 0 0 0 0 0 0 0 0 0 0 0 0 0 0 0 0 0 0\n",
      "  0 0 0 0 0 0 0 0 0 0 0 0 0 0 0 0 0 0 0 0 0 0 0 0 0 0 0 0 0 0 0 0 0 0 0 0\n",
      "  0 0 0 0 0 0 0 0 0 0 0 0 0 0 0 0 0 0 0 0 0 0 0 0 0 0 0 0 0 0 0 0 0 0 0 0\n",
      "  0 0 0 0 0 0 0 0 0 0 0 0 0 0 0 0 0 0 0 0 0 0 0 0 0 0 0 0 0 0 0 0 0 0 0 0\n",
      "  0 0 0 0 0 0 0 0 0 0 0 0 0 0 0 0 0 0 0 0 0 0 0 0 0 0 0 0 0 0 0 0 0 0 0 0\n",
      "  0 0 0 0 0 0 0 0 0 0 0 0 0 0 0 0 0 0 0 0 0 0 0 0 0 0 0 0 0 0 0 0 0 0 0 0\n",
      "  0 0 0 0 0 0 0 0 0 0 0 0 0 0 0 0 0 0 0 0 0 0 0 0 0 0 0 0 0 0 0 0 0 0 0 0\n",
      "  0 0 0 0 0 0 0 0 0 0 0 0 0 0 0 0 0 0 0 0 0 0 0 0 0 0 0 0 0 0 0 0 0 0 0 0\n",
      "  0 1 0 0 0 0]]\n"
     ]
    }
   ],
   "source": [
    "# method 1\n",
    "from sklearn.feature_extraction.text import CountVectorizer\n",
    "cv = CountVectorizer()\n",
    "bow = cv.fit_transform(df['name'])\n",
    "\n",
    "print(bow[0].toarray())"
   ]
  },
  {
   "cell_type": "code",
   "execution_count": 46,
   "id": "51f423e9",
   "metadata": {},
   "outputs": [],
   "source": [
    "# method 2\n",
    "\n",
    "# questions: it's good, i need to sort this to show me the most relevant answers\n",
    "def classify_texts(texts, n_clusters):\n",
    "    vectorizer = TfidfVectorizer()\n",
    "    X = vectorizer.fit_transform(texts)\n",
    "    kmeans = KMeans(n_clusters=n_clusters)\n",
    "    kmeans.fit(X)\n",
    "    return kmeans.labels_"
   ]
  },
  {
   "cell_type": "code",
   "execution_count": 38,
   "id": "befe5b2f",
   "metadata": {},
   "outputs": [],
   "source": [
    "clusters = classify_texts(df['name'], 500)"
   ]
  },
  {
   "cell_type": "code",
   "execution_count": 39,
   "id": "c3a428d9",
   "metadata": {},
   "outputs": [],
   "source": [
    "df['cluster'] = clusters"
   ]
  },
  {
   "cell_type": "code",
   "execution_count": 40,
   "id": "324f207c",
   "metadata": {},
   "outputs": [
    {
     "data": {
      "text/plain": [
       "date                                                 17-01-2023\n",
       "ecomm_name                                               devoto\n",
       "name                                           yerba canarias 1\n",
       "src           https://geant.vteximg.com.br/arquivos/ids/2921...\n",
       "price_1                                                     188\n",
       "price_2                                                     NaN\n",
       "cluster                                                      77\n",
       "Name: 423, dtype: object"
      ]
     },
     "execution_count": 40,
     "metadata": {},
     "output_type": "execute_result"
    }
   ],
   "source": [
    "df.loc[423]"
   ]
  },
  {
   "cell_type": "code",
   "execution_count": 41,
   "id": "0cdd713b",
   "metadata": {},
   "outputs": [
    {
     "data": {
      "text/html": [
       "<div>\n",
       "<style scoped>\n",
       "    .dataframe tbody tr th:only-of-type {\n",
       "        vertical-align: middle;\n",
       "    }\n",
       "\n",
       "    .dataframe tbody tr th {\n",
       "        vertical-align: top;\n",
       "    }\n",
       "\n",
       "    .dataframe thead th {\n",
       "        text-align: right;\n",
       "    }\n",
       "</style>\n",
       "<table border=\"1\" class=\"dataframe\">\n",
       "  <thead>\n",
       "    <tr style=\"text-align: right;\">\n",
       "      <th></th>\n",
       "      <th>date</th>\n",
       "      <th>ecomm_name</th>\n",
       "      <th>name</th>\n",
       "      <th>src</th>\n",
       "      <th>price_1</th>\n",
       "      <th>price_2</th>\n",
       "      <th>cluster</th>\n",
       "    </tr>\n",
       "  </thead>\n",
       "  <tbody>\n",
       "    <tr>\n",
       "      <th>69</th>\n",
       "      <td>17-01-2023</td>\n",
       "      <td>elclon</td>\n",
       "      <td>yerba canarias 1</td>\n",
       "      <td>https://f.fcdn.app/imgs/95fec6/www.elclon.com....</td>\n",
       "      <td>185</td>\n",
       "      <td>NaN</td>\n",
       "      <td>77</td>\n",
       "    </tr>\n",
       "    <tr>\n",
       "      <th>261</th>\n",
       "      <td>17-01-2023</td>\n",
       "      <td>eldorado</td>\n",
       "      <td>yerba canarias 1</td>\n",
       "      <td>https://eldoradouy.vtexassets.com/arquivos/ids...</td>\n",
       "      <td>188,00</td>\n",
       "      <td>NaN</td>\n",
       "      <td>77</td>\n",
       "    </tr>\n",
       "    <tr>\n",
       "      <th>423</th>\n",
       "      <td>17-01-2023</td>\n",
       "      <td>devoto</td>\n",
       "      <td>yerba canarias 1</td>\n",
       "      <td>https://geant.vteximg.com.br/arquivos/ids/2921...</td>\n",
       "      <td>188</td>\n",
       "      <td>NaN</td>\n",
       "      <td>77</td>\n",
       "    </tr>\n",
       "    <tr>\n",
       "      <th>452</th>\n",
       "      <td>17-01-2023</td>\n",
       "      <td>devoto</td>\n",
       "      <td>yerba canarias 500</td>\n",
       "      <td>https://geant.vteximg.com.br/arquivos/ids/2921...</td>\n",
       "      <td>101</td>\n",
       "      <td>NaN</td>\n",
       "      <td>77</td>\n",
       "    </tr>\n",
       "    <tr>\n",
       "      <th>465</th>\n",
       "      <td>17-01-2023</td>\n",
       "      <td>devoto</td>\n",
       "      <td>pack x 2 yerba canarias 70</td>\n",
       "      <td>https://geant.vteximg.com.br/arquivos/ids/3278...</td>\n",
       "      <td>25</td>\n",
       "      <td>NaN</td>\n",
       "      <td>77</td>\n",
       "    </tr>\n",
       "    <tr>\n",
       "      <th>476</th>\n",
       "      <td>17-01-2023</td>\n",
       "      <td>devoto</td>\n",
       "      <td>yerba canarias 250</td>\n",
       "      <td>https://geant.vteximg.com.br/arquivos/ids/2921...</td>\n",
       "      <td>55</td>\n",
       "      <td>NaN</td>\n",
       "      <td>77</td>\n",
       "    </tr>\n",
       "    <tr>\n",
       "      <th>484</th>\n",
       "      <td>17-01-2023</td>\n",
       "      <td>devoto</td>\n",
       "      <td>yerba canarias hierbas 1</td>\n",
       "      <td>https://geant.vteximg.com.br/arquivos/ids/2689...</td>\n",
       "      <td>195</td>\n",
       "      <td>NaN</td>\n",
       "      <td>77</td>\n",
       "    </tr>\n",
       "    <tr>\n",
       "      <th>485</th>\n",
       "      <td>17-01-2023</td>\n",
       "      <td>devoto</td>\n",
       "      <td>yerba canarias 5</td>\n",
       "      <td>https://geant.vteximg.com.br/arquivos/ids/2921...</td>\n",
       "      <td>925</td>\n",
       "      <td>NaN</td>\n",
       "      <td>77</td>\n",
       "    </tr>\n",
       "    <tr>\n",
       "      <th>843</th>\n",
       "      <td>17-01-2023</td>\n",
       "      <td>disco</td>\n",
       "      <td>yerba canarias 1</td>\n",
       "      <td>https://geant.vteximg.com.br/arquivos/ids/2921...</td>\n",
       "      <td>188</td>\n",
       "      <td>NaN</td>\n",
       "      <td>77</td>\n",
       "    </tr>\n",
       "    <tr>\n",
       "      <th>858</th>\n",
       "      <td>17-01-2023</td>\n",
       "      <td>disco</td>\n",
       "      <td>yerba canarias 500</td>\n",
       "      <td>https://geant.vteximg.com.br/arquivos/ids/2921...</td>\n",
       "      <td>101</td>\n",
       "      <td>NaN</td>\n",
       "      <td>77</td>\n",
       "    </tr>\n",
       "    <tr>\n",
       "      <th>892</th>\n",
       "      <td>17-01-2023</td>\n",
       "      <td>disco</td>\n",
       "      <td>yerba canarias 250</td>\n",
       "      <td>https://geant.vteximg.com.br/arquivos/ids/2921...</td>\n",
       "      <td>55</td>\n",
       "      <td>NaN</td>\n",
       "      <td>77</td>\n",
       "    </tr>\n",
       "    <tr>\n",
       "      <th>898</th>\n",
       "      <td>17-01-2023</td>\n",
       "      <td>disco</td>\n",
       "      <td>yerba canarias hierbas 1</td>\n",
       "      <td>https://geant.vteximg.com.br/arquivos/ids/2689...</td>\n",
       "      <td>195</td>\n",
       "      <td>NaN</td>\n",
       "      <td>77</td>\n",
       "    </tr>\n",
       "    <tr>\n",
       "      <th>899</th>\n",
       "      <td>17-01-2023</td>\n",
       "      <td>disco</td>\n",
       "      <td>yerba canarias 5</td>\n",
       "      <td>https://geant.vteximg.com.br/arquivos/ids/2921...</td>\n",
       "      <td>925</td>\n",
       "      <td>NaN</td>\n",
       "      <td>77</td>\n",
       "    </tr>\n",
       "    <tr>\n",
       "      <th>1257</th>\n",
       "      <td>17-01-2023</td>\n",
       "      <td>tiendainglesa</td>\n",
       "      <td>yerba canarias 1</td>\n",
       "      <td>https://images-ti-vm1.tiendainglesa.com.uy/lar...</td>\n",
       "      <td>190</td>\n",
       "      <td>NaN</td>\n",
       "      <td>77</td>\n",
       "    </tr>\n",
       "    <tr>\n",
       "      <th>1279</th>\n",
       "      <td>17-01-2023</td>\n",
       "      <td>tiendainglesa</td>\n",
       "      <td>yerba canarias 500</td>\n",
       "      <td>https://images-ti-vm1.tiendainglesa.com.uy/lar...</td>\n",
       "      <td>105</td>\n",
       "      <td>NaN</td>\n",
       "      <td>77</td>\n",
       "    </tr>\n",
       "    <tr>\n",
       "      <th>1809</th>\n",
       "      <td>17-01-2023</td>\n",
       "      <td>tata</td>\n",
       "      <td>yerba mate canarias 1</td>\n",
       "      <td>https://tatauy.vteximg.com.br/arquivos/ids/393...</td>\n",
       "      <td>$188,00</td>\n",
       "      <td>NaN</td>\n",
       "      <td>77</td>\n",
       "    </tr>\n",
       "    <tr>\n",
       "      <th>1822</th>\n",
       "      <td>17-01-2023</td>\n",
       "      <td>tata</td>\n",
       "      <td>yerba mate canarias 500</td>\n",
       "      <td>https://tatauy.vteximg.com.br/arquivos/ids/393...</td>\n",
       "      <td>$100,00</td>\n",
       "      <td>NaN</td>\n",
       "      <td>77</td>\n",
       "    </tr>\n",
       "    <tr>\n",
       "      <th>1870</th>\n",
       "      <td>17-01-2023</td>\n",
       "      <td>tata</td>\n",
       "      <td>yerba mate canarias 5</td>\n",
       "      <td>https://tatauy.vteximg.com.br/arquivos/ids/162...</td>\n",
       "      <td>$925,00</td>\n",
       "      <td>NaN</td>\n",
       "      <td>77</td>\n",
       "    </tr>\n",
       "  </tbody>\n",
       "</table>\n",
       "</div>"
      ],
      "text/plain": [
       "            date     ecomm_name                        name  \\\n",
       "69    17-01-2023         elclon            yerba canarias 1   \n",
       "261   17-01-2023       eldorado            yerba canarias 1   \n",
       "423   17-01-2023         devoto            yerba canarias 1   \n",
       "452   17-01-2023         devoto          yerba canarias 500   \n",
       "465   17-01-2023         devoto  pack x 2 yerba canarias 70   \n",
       "476   17-01-2023         devoto          yerba canarias 250   \n",
       "484   17-01-2023         devoto    yerba canarias hierbas 1   \n",
       "485   17-01-2023         devoto            yerba canarias 5   \n",
       "843   17-01-2023          disco            yerba canarias 1   \n",
       "858   17-01-2023          disco          yerba canarias 500   \n",
       "892   17-01-2023          disco          yerba canarias 250   \n",
       "898   17-01-2023          disco    yerba canarias hierbas 1   \n",
       "899   17-01-2023          disco            yerba canarias 5   \n",
       "1257  17-01-2023  tiendainglesa            yerba canarias 1   \n",
       "1279  17-01-2023  tiendainglesa          yerba canarias 500   \n",
       "1809  17-01-2023           tata       yerba mate canarias 1   \n",
       "1822  17-01-2023           tata     yerba mate canarias 500   \n",
       "1870  17-01-2023           tata       yerba mate canarias 5   \n",
       "\n",
       "                                                    src  price_1 price_2  \\\n",
       "69    https://f.fcdn.app/imgs/95fec6/www.elclon.com....      185     NaN   \n",
       "261   https://eldoradouy.vtexassets.com/arquivos/ids...   188,00     NaN   \n",
       "423   https://geant.vteximg.com.br/arquivos/ids/2921...      188     NaN   \n",
       "452   https://geant.vteximg.com.br/arquivos/ids/2921...      101     NaN   \n",
       "465   https://geant.vteximg.com.br/arquivos/ids/3278...       25     NaN   \n",
       "476   https://geant.vteximg.com.br/arquivos/ids/2921...       55     NaN   \n",
       "484   https://geant.vteximg.com.br/arquivos/ids/2689...      195     NaN   \n",
       "485   https://geant.vteximg.com.br/arquivos/ids/2921...      925     NaN   \n",
       "843   https://geant.vteximg.com.br/arquivos/ids/2921...      188     NaN   \n",
       "858   https://geant.vteximg.com.br/arquivos/ids/2921...      101     NaN   \n",
       "892   https://geant.vteximg.com.br/arquivos/ids/2921...       55     NaN   \n",
       "898   https://geant.vteximg.com.br/arquivos/ids/2689...      195     NaN   \n",
       "899   https://geant.vteximg.com.br/arquivos/ids/2921...      925     NaN   \n",
       "1257  https://images-ti-vm1.tiendainglesa.com.uy/lar...      190     NaN   \n",
       "1279  https://images-ti-vm1.tiendainglesa.com.uy/lar...      105     NaN   \n",
       "1809  https://tatauy.vteximg.com.br/arquivos/ids/393...  $188,00     NaN   \n",
       "1822  https://tatauy.vteximg.com.br/arquivos/ids/393...  $100,00     NaN   \n",
       "1870  https://tatauy.vteximg.com.br/arquivos/ids/162...  $925,00     NaN   \n",
       "\n",
       "      cluster  \n",
       "69         77  \n",
       "261        77  \n",
       "423        77  \n",
       "452        77  \n",
       "465        77  \n",
       "476        77  \n",
       "484        77  \n",
       "485        77  \n",
       "843        77  \n",
       "858        77  \n",
       "892        77  \n",
       "898        77  \n",
       "899        77  \n",
       "1257       77  \n",
       "1279       77  \n",
       "1809       77  \n",
       "1822       77  \n",
       "1870       77  "
      ]
     },
     "execution_count": 41,
     "metadata": {},
     "output_type": "execute_result"
    }
   ],
   "source": [
    "df[df['cluster'] == 77]"
   ]
  }
 ],
 "metadata": {
  "hide_input": false,
  "kernelspec": {
   "display_name": "cheapper",
   "language": "python",
   "name": "cheapper"
  },
  "language_info": {
   "codemirror_mode": {
    "name": "ipython",
    "version": 3
   },
   "file_extension": ".py",
   "mimetype": "text/x-python",
   "name": "python",
   "nbconvert_exporter": "python",
   "pygments_lexer": "ipython3",
   "version": "3.10.8"
  },
  "toc": {
   "base_numbering": 1,
   "nav_menu": {},
   "number_sections": true,
   "sideBar": true,
   "skip_h1_title": false,
   "title_cell": "Table of Contents",
   "title_sidebar": "Contents",
   "toc_cell": false,
   "toc_position": {},
   "toc_section_display": true,
   "toc_window_display": false
  }
 },
 "nbformat": 4,
 "nbformat_minor": 5
}
