{
 "cells": [
  {
   "cell_type": "markdown",
   "id": "3b570f36",
   "metadata": {},
   "source": [
    "### Imports"
   ]
  },
  {
   "cell_type": "code",
   "execution_count": 1,
   "id": "c05716ad",
   "metadata": {},
   "outputs": [],
   "source": [
    "import re\n",
    "import functions\n",
    "import boto3\n",
    "import pandas as pd\n",
    "import numpy as np\n",
    "from sklearn.cluster import KMeans\n",
    "from sklearn.feature_extraction.text import TfidfVectorizer"
   ]
  },
  {
   "cell_type": "markdown",
   "id": "3b6bfd31",
   "metadata": {},
   "source": [
    "### Data download"
   ]
  },
  {
   "cell_type": "code",
   "execution_count": 2,
   "id": "e1e96260",
   "metadata": {},
   "outputs": [],
   "source": [
    "# s3 = boto3.client(\"s3\")\n",
    "# s3.download_file(\n",
    "#     Bucket=\"cheapper\", Key=\"webscraping_results_17-01-2023.csv\", Filename=\"data.csv\"\n",
    "# )"
   ]
  },
  {
   "cell_type": "markdown",
   "id": "36f12ad1",
   "metadata": {},
   "source": [
    "### Read data"
   ]
  },
  {
   "cell_type": "code",
   "execution_count": 3,
   "id": "a0683fa4",
   "metadata": {},
   "outputs": [],
   "source": [
    "df = pd.read_csv('data.csv').drop('Unnamed: 0',axis = 1)"
   ]
  },
  {
   "cell_type": "code",
   "execution_count": 4,
   "id": "c2a1f12f",
   "metadata": {},
   "outputs": [],
   "source": [
    "df = df[df['name'].str.contains('yerba',case = False)].reset_index(drop = True) # me quedo solo con yerba"
   ]
  },
  {
   "cell_type": "code",
   "execution_count": 5,
   "id": "ab2aa844",
   "metadata": {},
   "outputs": [
    {
     "data": {
      "text/html": [
       "<div>\n",
       "<style scoped>\n",
       "    .dataframe tbody tr th:only-of-type {\n",
       "        vertical-align: middle;\n",
       "    }\n",
       "\n",
       "    .dataframe tbody tr th {\n",
       "        vertical-align: top;\n",
       "    }\n",
       "\n",
       "    .dataframe thead th {\n",
       "        text-align: right;\n",
       "    }\n",
       "</style>\n",
       "<table border=\"1\" class=\"dataframe\">\n",
       "  <thead>\n",
       "    <tr style=\"text-align: right;\">\n",
       "      <th></th>\n",
       "      <th>date</th>\n",
       "      <th>ecomm_name</th>\n",
       "      <th>name</th>\n",
       "      <th>src</th>\n",
       "      <th>price_1</th>\n",
       "      <th>price_2</th>\n",
       "    </tr>\n",
       "  </thead>\n",
       "  <tbody>\n",
       "    <tr>\n",
       "      <th>69</th>\n",
       "      <td>17-01-2023</td>\n",
       "      <td>elclon</td>\n",
       "      <td>YERBA CANARIAS 1 KG</td>\n",
       "      <td>https://f.fcdn.app/imgs/95fec6/www.elclon.com....</td>\n",
       "      <td>185</td>\n",
       "      <td>NaN</td>\n",
       "    </tr>\n",
       "    <tr>\n",
       "      <th>72</th>\n",
       "      <td>17-01-2023</td>\n",
       "      <td>eldorado</td>\n",
       "      <td>YERBA CANARIAS 1KG</td>\n",
       "      <td>https://eldoradouy.vtexassets.com/arquivos/ids...</td>\n",
       "      <td>188,00</td>\n",
       "      <td>NaN</td>\n",
       "    </tr>\n",
       "    <tr>\n",
       "      <th>104</th>\n",
       "      <td>17-01-2023</td>\n",
       "      <td>devoto</td>\n",
       "      <td>Yerba CANARIAS 1 kg</td>\n",
       "      <td>https://geant.vteximg.com.br/arquivos/ids/2921...</td>\n",
       "      <td>188</td>\n",
       "      <td>NaN</td>\n",
       "    </tr>\n",
       "    <tr>\n",
       "      <th>176</th>\n",
       "      <td>17-01-2023</td>\n",
       "      <td>disco</td>\n",
       "      <td>Yerba CANARIAS 1 kg</td>\n",
       "      <td>https://geant.vteximg.com.br/arquivos/ids/2921...</td>\n",
       "      <td>188</td>\n",
       "      <td>NaN</td>\n",
       "    </tr>\n",
       "    <tr>\n",
       "      <th>246</th>\n",
       "      <td>17-01-2023</td>\n",
       "      <td>tiendainglesa</td>\n",
       "      <td>Yerba CANARIAS 1 Kg</td>\n",
       "      <td>https://images-ti-vm1.tiendainglesa.com.uy/lar...</td>\n",
       "      <td>190</td>\n",
       "      <td>NaN</td>\n",
       "    </tr>\n",
       "  </tbody>\n",
       "</table>\n",
       "</div>"
      ],
      "text/plain": [
       "           date     ecomm_name                 name  \\\n",
       "69   17-01-2023         elclon  YERBA CANARIAS 1 KG   \n",
       "72   17-01-2023       eldorado  YERBA CANARIAS 1KG    \n",
       "104  17-01-2023         devoto  Yerba CANARIAS 1 kg   \n",
       "176  17-01-2023          disco  Yerba CANARIAS 1 kg   \n",
       "246  17-01-2023  tiendainglesa  Yerba CANARIAS 1 Kg   \n",
       "\n",
       "                                                   src price_1 price_2  \n",
       "69   https://f.fcdn.app/imgs/95fec6/www.elclon.com....     185     NaN  \n",
       "72   https://eldoradouy.vtexassets.com/arquivos/ids...  188,00     NaN  \n",
       "104  https://geant.vteximg.com.br/arquivos/ids/2921...     188     NaN  \n",
       "176  https://geant.vteximg.com.br/arquivos/ids/2921...     188     NaN  \n",
       "246  https://images-ti-vm1.tiendainglesa.com.uy/lar...     190     NaN  "
      ]
     },
     "execution_count": 5,
     "metadata": {},
     "output_type": "execute_result"
    }
   ],
   "source": [
    "df.loc[[69,72,104,176,246]]"
   ]
  },
  {
   "cell_type": "markdown",
   "id": "e13f3e19",
   "metadata": {},
   "source": [
    "### Unsupervised clasification"
   ]
  },
  {
   "cell_type": "code",
   "execution_count": 6,
   "id": "343f73ae",
   "metadata": {},
   "outputs": [],
   "source": [
    "import nltk\n",
    "from nltk.corpus import stopwords\n",
    "from nltk.tokenize import word_tokenize"
   ]
  },
  {
   "cell_type": "code",
   "execution_count": 7,
   "id": "2f543e7d",
   "metadata": {},
   "outputs": [],
   "source": [
    "def containsNumber(value):\n",
    "    for character in value:\n",
    "        if character.isdigit():\n",
    "            return True\n",
    "    return False"
   ]
  },
  {
   "cell_type": "code",
   "execution_count": 8,
   "id": "79426390",
   "metadata": {},
   "outputs": [],
   "source": [
    "def remove_stopwords(texts):\n",
    "    stop_words = set(stopwords.words('spanish'))\n",
    "    stop_words.add('gr')\n",
    "    stop_words.add('g')\n",
    "    stop_words.add('grs.')\n",
    "    stop_words.add('grs')\n",
    "    stop_words.add('kg')\n",
    "    stop_words.add('kg.')\n",
    "    stop_words.add('&')\n",
    "    stop_words.add('+')\n",
    "    stop_words.add('.')\n",
    "    stop_words.add('%')\n",
    "    stop_words.add('clasica')\n",
    "    cleaned_texts = []\n",
    "    for text in texts:\n",
    "        cleaned_text = [word for word in text.split() if word.lower() not in stop_words]\n",
    "        cleaned_texts.append(' '.join(cleaned_text))\n",
    "    return cleaned_texts"
   ]
  },
  {
   "cell_type": "code",
   "execution_count": 9,
   "id": "57ac2f90",
   "metadata": {},
   "outputs": [],
   "source": [
    "def remove_stopwords_together(texts):\n",
    "    \n",
    "    new_names = []\n",
    "    for names in texts:\n",
    "        \n",
    "        new_name = []\n",
    "        for name in names.split():\n",
    "            \n",
    "            if containsNumber(name):\n",
    "                new_name.append(re.findall(r'\\d+', name)[0])\n",
    "            else:\n",
    "                new_name.append(name)\n",
    "        \n",
    "        new_names.append(' '.join(new_name))\n",
    "    return new_names"
   ]
  },
  {
   "cell_type": "code",
   "execution_count": 10,
   "id": "7a544b14",
   "metadata": {},
   "outputs": [],
   "source": [
    "def remove_yerba_mate(texts):\n",
    "    if 'yerba' in texts.split() and 'mate' in texts.split():\n",
    "            return texts.replace('mate ','')\n",
    "    else:\n",
    "        return texts"
   ]
  },
  {
   "cell_type": "code",
   "execution_count": 11,
   "id": "24ffa863",
   "metadata": {},
   "outputs": [
    {
     "name": "stderr",
     "output_type": "stream",
     "text": [
      "C:\\Users\\emanu\\AppData\\Local\\Temp\\ipykernel_9740\\2218843791.py:4: FutureWarning: The default value of regex will change from True to False in a future version. In addition, single character regular expressions will *not* be treated as literal strings when regex=True.\n",
      "  df['name'] = df['name'].str.replace('(','')\n",
      "C:\\Users\\emanu\\AppData\\Local\\Temp\\ipykernel_9740\\2218843791.py:5: FutureWarning: The default value of regex will change from True to False in a future version. In addition, single character regular expressions will *not* be treated as literal strings when regex=True.\n",
      "  df['name'] = df['name'].str.replace(')','')\n"
     ]
    }
   ],
   "source": [
    "df['name'] = df['name'].astype(str) # get everything to str\n",
    "df['name'] = df['name'].str.lower() # lowercase everything\n",
    "df['name'] = df['name'].str.replace('c/','') # get rid of the c/\n",
    "df['name'] = df['name'].str.replace('(','')\n",
    "df['name'] = df['name'].str.replace(')','')\n",
    "df['name'] = df['name'].str.replace('á','a')\n",
    "df['name'] = df['name'].str.replace('é','e')\n",
    "df['name'] = df['name'].str.replace('í','i')\n",
    "df['name'] = df['name'].str.replace('ó','o')\n",
    "df['name'] = df['name'].str.replace('ú','u')\n",
    "df['name'] = df['name'].str.replace('/',' ')\n",
    "\n",
    "df['name'] = remove_stopwords(df['name'].values) # stopwords\n",
    "df['name'] = remove_stopwords_together(df['name']) # clean \"500g\" like descriptions\n",
    "df['name'] = [remove_yerba_mate(descriptions) for descriptions in df['name']] # remove mate from yerba mate"
   ]
  },
  {
   "cell_type": "code",
   "execution_count": 12,
   "id": "32ac5373",
   "metadata": {},
   "outputs": [
    {
     "data": {
      "text/html": [
       "<div>\n",
       "<style scoped>\n",
       "    .dataframe tbody tr th:only-of-type {\n",
       "        vertical-align: middle;\n",
       "    }\n",
       "\n",
       "    .dataframe tbody tr th {\n",
       "        vertical-align: top;\n",
       "    }\n",
       "\n",
       "    .dataframe thead th {\n",
       "        text-align: right;\n",
       "    }\n",
       "</style>\n",
       "<table border=\"1\" class=\"dataframe\">\n",
       "  <thead>\n",
       "    <tr style=\"text-align: right;\">\n",
       "      <th></th>\n",
       "      <th>date</th>\n",
       "      <th>ecomm_name</th>\n",
       "      <th>name</th>\n",
       "      <th>src</th>\n",
       "      <th>price_1</th>\n",
       "      <th>price_2</th>\n",
       "    </tr>\n",
       "  </thead>\n",
       "  <tbody>\n",
       "    <tr>\n",
       "      <th>69</th>\n",
       "      <td>17-01-2023</td>\n",
       "      <td>elclon</td>\n",
       "      <td>yerba canarias 1</td>\n",
       "      <td>https://f.fcdn.app/imgs/95fec6/www.elclon.com....</td>\n",
       "      <td>185</td>\n",
       "      <td>NaN</td>\n",
       "    </tr>\n",
       "    <tr>\n",
       "      <th>72</th>\n",
       "      <td>17-01-2023</td>\n",
       "      <td>eldorado</td>\n",
       "      <td>yerba canarias 1</td>\n",
       "      <td>https://eldoradouy.vtexassets.com/arquivos/ids...</td>\n",
       "      <td>188,00</td>\n",
       "      <td>NaN</td>\n",
       "    </tr>\n",
       "    <tr>\n",
       "      <th>104</th>\n",
       "      <td>17-01-2023</td>\n",
       "      <td>devoto</td>\n",
       "      <td>yerba canarias 1</td>\n",
       "      <td>https://geant.vteximg.com.br/arquivos/ids/2921...</td>\n",
       "      <td>188</td>\n",
       "      <td>NaN</td>\n",
       "    </tr>\n",
       "    <tr>\n",
       "      <th>176</th>\n",
       "      <td>17-01-2023</td>\n",
       "      <td>disco</td>\n",
       "      <td>yerba canarias 1</td>\n",
       "      <td>https://geant.vteximg.com.br/arquivos/ids/2921...</td>\n",
       "      <td>188</td>\n",
       "      <td>NaN</td>\n",
       "    </tr>\n",
       "    <tr>\n",
       "      <th>246</th>\n",
       "      <td>17-01-2023</td>\n",
       "      <td>tiendainglesa</td>\n",
       "      <td>yerba canarias 1</td>\n",
       "      <td>https://images-ti-vm1.tiendainglesa.com.uy/lar...</td>\n",
       "      <td>190</td>\n",
       "      <td>NaN</td>\n",
       "    </tr>\n",
       "  </tbody>\n",
       "</table>\n",
       "</div>"
      ],
      "text/plain": [
       "           date     ecomm_name              name  \\\n",
       "69   17-01-2023         elclon  yerba canarias 1   \n",
       "72   17-01-2023       eldorado  yerba canarias 1   \n",
       "104  17-01-2023         devoto  yerba canarias 1   \n",
       "176  17-01-2023          disco  yerba canarias 1   \n",
       "246  17-01-2023  tiendainglesa  yerba canarias 1   \n",
       "\n",
       "                                                   src price_1 price_2  \n",
       "69   https://f.fcdn.app/imgs/95fec6/www.elclon.com....     185     NaN  \n",
       "72   https://eldoradouy.vtexassets.com/arquivos/ids...  188,00     NaN  \n",
       "104  https://geant.vteximg.com.br/arquivos/ids/2921...     188     NaN  \n",
       "176  https://geant.vteximg.com.br/arquivos/ids/2921...     188     NaN  \n",
       "246  https://images-ti-vm1.tiendainglesa.com.uy/lar...     190     NaN  "
      ]
     },
     "execution_count": 12,
     "metadata": {},
     "output_type": "execute_result"
    }
   ],
   "source": [
    "df.loc[[69,72,104,176,246]]"
   ]
  },
  {
   "cell_type": "markdown",
   "id": "908be9f1",
   "metadata": {},
   "source": [
    "### Text classification"
   ]
  },
  {
   "cell_type": "code",
   "execution_count": 13,
   "id": "abac7553",
   "metadata": {},
   "outputs": [],
   "source": [
    "def tokenize_text(text):\n",
    "    tokens = word_tokenize(text)\n",
    "    return tokens\n",
    "\n",
    "def create_bow(texts):\n",
    "    vectorizer = CountVectorizer()\n",
    "    bow = vectorizer.fit_transform(texts)\n",
    "    return bow, vectorizer"
   ]
  },
  {
   "cell_type": "code",
   "execution_count": 14,
   "id": "aada150b",
   "metadata": {},
   "outputs": [
    {
     "name": "stderr",
     "output_type": "stream",
     "text": [
      "C:\\Users\\emanu\\Anaconda3\\envs\\cheapper\\lib\\site-packages\\sklearn\\feature_extraction\\text.py:528: UserWarning: The parameter 'token_pattern' will not be used since 'tokenizer' is not None'\n",
      "  warnings.warn(\n"
     ]
    }
   ],
   "source": [
    "from sklearn.feature_extraction.text import CountVectorizer\n",
    "\n",
    "cv =  CountVectorizer(tokenizer=lambda txt: txt.split()) # tengo que usar una función custom\n",
    "bow = cv.fit_transform(df['name'])\n",
    "\n",
    "count_array = bow.toarray()\n",
    "df_features = pd.DataFrame(data=count_array, columns = cv.get_feature_names_out())"
   ]
  },
  {
   "cell_type": "code",
   "execution_count": 15,
   "id": "caac98c8",
   "metadata": {},
   "outputs": [
    {
     "name": "stdout",
     "output_type": "stream",
     "text": [
      "Item: yerba canarias 1\n",
      "\n",
      "Unos en el vector:\n"
     ]
    },
    {
     "data": {
      "text/plain": [
       "1           1\n",
       "canarias    1\n",
       "yerba       1\n",
       "Name: 69, dtype: int64"
      ]
     },
     "execution_count": 15,
     "metadata": {},
     "output_type": "execute_result"
    }
   ],
   "source": [
    "print('Item:', df['name'].loc[69])\n",
    "print('')\n",
    "print('Unos en el vector:')\n",
    "df_features.loc[:,df_features.loc[69] == 1].loc[69]"
   ]
  },
  {
   "cell_type": "code",
   "execution_count": 16,
   "id": "67ca1495",
   "metadata": {},
   "outputs": [],
   "source": [
    "# This is the final dataset with the names and vector representation\n",
    "df_features = df_features.set_index(df['name']) "
   ]
  },
  {
   "cell_type": "code",
   "execution_count": 17,
   "id": "876655df",
   "metadata": {},
   "outputs": [],
   "source": [
    "# Function that gets similar vectors to the ones given\n",
    "def get_similar_items(text):\n",
    "    \n",
    "    text = functions.clean_description(text)\n",
    "    \n",
    "    text = cv.transform(text).toarray()[0]\n",
    "    \n",
    "    distances = []\n",
    "\n",
    "    for u in df_features.index:\n",
    "        if np.linalg.norm(text - df_features.loc[u]) <= 1:\n",
    "            distances.append(u)\n",
    "            \n",
    "    return df[df['name'].isin(distances)]"
   ]
  },
  {
   "cell_type": "markdown",
   "id": "e665f72d",
   "metadata": {},
   "source": [
    "### Text similarity"
   ]
  },
  {
   "cell_type": "code",
   "execution_count": 18,
   "id": "abed2d7a",
   "metadata": {
    "hide_input": false
   },
   "outputs": [],
   "source": [
    "text = 'yerba canarias serena 1kg'\n",
    "\n",
    "similar_items = get_similar_items(text)"
   ]
  },
  {
   "cell_type": "code",
   "execution_count": 19,
   "id": "fcb65647",
   "metadata": {},
   "outputs": [
    {
     "data": {
      "text/html": [
       "<div>\n",
       "<style scoped>\n",
       "    .dataframe tbody tr th:only-of-type {\n",
       "        vertical-align: middle;\n",
       "    }\n",
       "\n",
       "    .dataframe tbody tr th {\n",
       "        vertical-align: top;\n",
       "    }\n",
       "\n",
       "    .dataframe thead th {\n",
       "        text-align: right;\n",
       "    }\n",
       "</style>\n",
       "<table border=\"1\" class=\"dataframe\">\n",
       "  <thead>\n",
       "    <tr style=\"text-align: right;\">\n",
       "      <th></th>\n",
       "      <th>date</th>\n",
       "      <th>ecomm_name</th>\n",
       "      <th>name</th>\n",
       "      <th>src</th>\n",
       "      <th>price_1</th>\n",
       "      <th>price_2</th>\n",
       "    </tr>\n",
       "  </thead>\n",
       "  <tbody>\n",
       "    <tr>\n",
       "      <th>57</th>\n",
       "      <td>17-01-2023</td>\n",
       "      <td>elclon</td>\n",
       "      <td>yerba canarias 1 serena</td>\n",
       "      <td>https://f.fcdn.app/imgs/90d00b/www.elclon.com....</td>\n",
       "      <td>205</td>\n",
       "      <td>NaN</td>\n",
       "    </tr>\n",
       "    <tr>\n",
       "      <th>73</th>\n",
       "      <td>17-01-2023</td>\n",
       "      <td>eldorado</td>\n",
       "      <td>yerba canarias serena 1</td>\n",
       "      <td>https://eldoradouy.vtexassets.com/arquivos/ids...</td>\n",
       "      <td>199,90</td>\n",
       "      <td>NaN</td>\n",
       "    </tr>\n",
       "    <tr>\n",
       "      <th>105</th>\n",
       "      <td>17-01-2023</td>\n",
       "      <td>devoto</td>\n",
       "      <td>yerba canarias serena 1</td>\n",
       "      <td>https://geant.vteximg.com.br/arquivos/ids/2068...</td>\n",
       "      <td>208</td>\n",
       "      <td>NaN</td>\n",
       "    </tr>\n",
       "    <tr>\n",
       "      <th>175</th>\n",
       "      <td>17-01-2023</td>\n",
       "      <td>disco</td>\n",
       "      <td>yerba canarias serena 1</td>\n",
       "      <td>https://geant.vteximg.com.br/arquivos/ids/2068...</td>\n",
       "      <td>202</td>\n",
       "      <td>NaN</td>\n",
       "    </tr>\n",
       "    <tr>\n",
       "      <th>244</th>\n",
       "      <td>17-01-2023</td>\n",
       "      <td>tiendainglesa</td>\n",
       "      <td>yerba serena canarias 1</td>\n",
       "      <td>https://images-ti-vm1.tiendainglesa.com.uy/lar...</td>\n",
       "      <td>213</td>\n",
       "      <td>NaN</td>\n",
       "    </tr>\n",
       "  </tbody>\n",
       "</table>\n",
       "</div>"
      ],
      "text/plain": [
       "           date     ecomm_name                     name  \\\n",
       "57   17-01-2023         elclon  yerba canarias 1 serena   \n",
       "73   17-01-2023       eldorado  yerba canarias serena 1   \n",
       "105  17-01-2023         devoto  yerba canarias serena 1   \n",
       "175  17-01-2023          disco  yerba canarias serena 1   \n",
       "244  17-01-2023  tiendainglesa  yerba serena canarias 1   \n",
       "\n",
       "                                                   src price_1 price_2  \n",
       "57   https://f.fcdn.app/imgs/90d00b/www.elclon.com....     205     NaN  \n",
       "73   https://eldoradouy.vtexassets.com/arquivos/ids...  199,90     NaN  \n",
       "105  https://geant.vteximg.com.br/arquivos/ids/2068...     208     NaN  \n",
       "175  https://geant.vteximg.com.br/arquivos/ids/2068...     202     NaN  \n",
       "244  https://images-ti-vm1.tiendainglesa.com.uy/lar...     213     NaN  "
      ]
     },
     "execution_count": 19,
     "metadata": {},
     "output_type": "execute_result"
    }
   ],
   "source": [
    "similar_items"
   ]
  },
  {
   "cell_type": "markdown",
   "id": "692f71b2",
   "metadata": {},
   "source": [
    "### Image similarity"
   ]
  },
  {
   "cell_type": "code",
   "execution_count": 39,
   "id": "5b2ebe37",
   "metadata": {},
   "outputs": [
    {
     "name": "stderr",
     "output_type": "stream",
     "text": [
      "C:\\Users\\emanu\\Anaconda3\\envs\\cheapper\\lib\\site-packages\\torchvision\\models\\_utils.py:208: UserWarning: The parameter 'pretrained' is deprecated since 0.13 and may be removed in the future, please use 'weights' instead.\n",
      "  warnings.warn(\n",
      "C:\\Users\\emanu\\Anaconda3\\envs\\cheapper\\lib\\site-packages\\torchvision\\models\\_utils.py:223: UserWarning: Arguments other than a weight enum or `None` for 'weights' are deprecated since 0.13 and may be removed in the future. The current behavior is equivalent to passing `weights=FasterRCNN_ResNet50_FPN_Weights.COCO_V1`. You can also use `weights=FasterRCNN_ResNet50_FPN_Weights.DEFAULT` to get the most up-to-date weights.\n",
      "  warnings.warn(msg)\n"
     ]
    }
   ],
   "source": [
    "# Model loading\n",
    "from detecto.core import Model\n",
    "from detecto import utils\n",
    "\n",
    "labels = ['yerba canarias 1 kg',\n",
    " 'yerba armiño 1 kg',\n",
    " 'yerba canarias serena 1 kg',\n",
    " 'yerba armiño suave 1 kg',\n",
    " 'yerba armiño compuesta 1 kg']\n",
    "\n",
    "model = Model.load('model_weights.pth', labels)"
   ]
  },
  {
   "cell_type": "code",
   "execution_count": 84,
   "id": "71ed074b",
   "metadata": {},
   "outputs": [],
   "source": [
    "# Visualizo una imagen\n",
    "def get_image_prediction(image):\n",
    "    \n",
    "    image = utils.read_image(image)\n",
    "    \n",
    "    labels, boxes, scores = model.predict_top(image)\n",
    "    \n",
    "    df_temp = pd.DataFrame(scores, index = [labels], columns = ['Probability'])\n",
    "    \n",
    "    df_temp = df_temp.reset_index()\n",
    "    \n",
    "    return df_temp.sort_values('Probability').reset_index().values[-1][1]"
   ]
  },
  {
   "cell_type": "code",
   "execution_count": 85,
   "id": "4163de08",
   "metadata": {},
   "outputs": [],
   "source": [
    "item = get_image_prediction('test 2.jpg')"
   ]
  },
  {
   "cell_type": "code",
   "execution_count": 86,
   "id": "1c4168ce",
   "metadata": {},
   "outputs": [
    {
     "data": {
      "text/plain": [
       "'yerba canarias serena 1 kg'"
      ]
     },
     "execution_count": 86,
     "metadata": {},
     "output_type": "execute_result"
    }
   ],
   "source": [
    "item"
   ]
  },
  {
   "cell_type": "code",
   "execution_count": 88,
   "id": "108bcdbb",
   "metadata": {},
   "outputs": [],
   "source": [
    "## Pass it trough the text similarity\n",
    "similar_items = get_similar_items(df_temp.sort_values('Probability').reset_index().values[-1][1])"
   ]
  },
  {
   "cell_type": "code",
   "execution_count": 89,
   "id": "99b02870",
   "metadata": {},
   "outputs": [
    {
     "data": {
      "text/html": [
       "<div>\n",
       "<style scoped>\n",
       "    .dataframe tbody tr th:only-of-type {\n",
       "        vertical-align: middle;\n",
       "    }\n",
       "\n",
       "    .dataframe tbody tr th {\n",
       "        vertical-align: top;\n",
       "    }\n",
       "\n",
       "    .dataframe thead th {\n",
       "        text-align: right;\n",
       "    }\n",
       "</style>\n",
       "<table border=\"1\" class=\"dataframe\">\n",
       "  <thead>\n",
       "    <tr style=\"text-align: right;\">\n",
       "      <th></th>\n",
       "      <th>date</th>\n",
       "      <th>ecomm_name</th>\n",
       "      <th>name</th>\n",
       "      <th>src</th>\n",
       "      <th>price_1</th>\n",
       "      <th>price_2</th>\n",
       "    </tr>\n",
       "  </thead>\n",
       "  <tbody>\n",
       "    <tr>\n",
       "      <th>57</th>\n",
       "      <td>17-01-2023</td>\n",
       "      <td>elclon</td>\n",
       "      <td>yerba canarias 1 serena</td>\n",
       "      <td>https://f.fcdn.app/imgs/90d00b/www.elclon.com....</td>\n",
       "      <td>205</td>\n",
       "      <td>NaN</td>\n",
       "    </tr>\n",
       "    <tr>\n",
       "      <th>73</th>\n",
       "      <td>17-01-2023</td>\n",
       "      <td>eldorado</td>\n",
       "      <td>yerba canarias serena 1</td>\n",
       "      <td>https://eldoradouy.vtexassets.com/arquivos/ids...</td>\n",
       "      <td>199,90</td>\n",
       "      <td>NaN</td>\n",
       "    </tr>\n",
       "    <tr>\n",
       "      <th>105</th>\n",
       "      <td>17-01-2023</td>\n",
       "      <td>devoto</td>\n",
       "      <td>yerba canarias serena 1</td>\n",
       "      <td>https://geant.vteximg.com.br/arquivos/ids/2068...</td>\n",
       "      <td>208</td>\n",
       "      <td>NaN</td>\n",
       "    </tr>\n",
       "    <tr>\n",
       "      <th>175</th>\n",
       "      <td>17-01-2023</td>\n",
       "      <td>disco</td>\n",
       "      <td>yerba canarias serena 1</td>\n",
       "      <td>https://geant.vteximg.com.br/arquivos/ids/2068...</td>\n",
       "      <td>202</td>\n",
       "      <td>NaN</td>\n",
       "    </tr>\n",
       "    <tr>\n",
       "      <th>244</th>\n",
       "      <td>17-01-2023</td>\n",
       "      <td>tiendainglesa</td>\n",
       "      <td>yerba serena canarias 1</td>\n",
       "      <td>https://images-ti-vm1.tiendainglesa.com.uy/lar...</td>\n",
       "      <td>213</td>\n",
       "      <td>NaN</td>\n",
       "    </tr>\n",
       "  </tbody>\n",
       "</table>\n",
       "</div>"
      ],
      "text/plain": [
       "           date     ecomm_name                     name  \\\n",
       "57   17-01-2023         elclon  yerba canarias 1 serena   \n",
       "73   17-01-2023       eldorado  yerba canarias serena 1   \n",
       "105  17-01-2023         devoto  yerba canarias serena 1   \n",
       "175  17-01-2023          disco  yerba canarias serena 1   \n",
       "244  17-01-2023  tiendainglesa  yerba serena canarias 1   \n",
       "\n",
       "                                                   src price_1 price_2  \n",
       "57   https://f.fcdn.app/imgs/90d00b/www.elclon.com....     205     NaN  \n",
       "73   https://eldoradouy.vtexassets.com/arquivos/ids...  199,90     NaN  \n",
       "105  https://geant.vteximg.com.br/arquivos/ids/2068...     208     NaN  \n",
       "175  https://geant.vteximg.com.br/arquivos/ids/2068...     202     NaN  \n",
       "244  https://images-ti-vm1.tiendainglesa.com.uy/lar...     213     NaN  "
      ]
     },
     "execution_count": 89,
     "metadata": {},
     "output_type": "execute_result"
    }
   ],
   "source": [
    "similar_items"
   ]
  }
 ],
 "metadata": {
  "hide_input": false,
  "kernelspec": {
   "display_name": "cheapper",
   "language": "python",
   "name": "cheapper"
  },
  "language_info": {
   "codemirror_mode": {
    "name": "ipython",
    "version": 3
   },
   "file_extension": ".py",
   "mimetype": "text/x-python",
   "name": "python",
   "nbconvert_exporter": "python",
   "pygments_lexer": "ipython3",
   "version": "3.10.8"
  },
  "toc": {
   "base_numbering": 1,
   "nav_menu": {},
   "number_sections": true,
   "sideBar": true,
   "skip_h1_title": false,
   "title_cell": "Table of Contents",
   "title_sidebar": "Contents",
   "toc_cell": false,
   "toc_position": {},
   "toc_section_display": true,
   "toc_window_display": true
  }
 },
 "nbformat": 4,
 "nbformat_minor": 5
}
